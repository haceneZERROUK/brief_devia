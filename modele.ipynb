{
 "cells": [
  {
   "cell_type": "code",
   "execution_count": 143,
   "metadata": {},
   "outputs": [],
   "source": [
    "\n",
    "import pandas as pd\n",
    "import streamlit as st\n",
    "import plotly.express as px\n",
    "\n",
    "import matplotlib.pyplot as plt\n",
    "import seaborn as sns\n"
   ]
  },
  {
   "cell_type": "code",
   "execution_count": 144,
   "metadata": {},
   "outputs": [
    {
     "name": "stdout",
     "output_type": "stream",
     "text": [
      "<class 'pandas.core.frame.DataFrame'>\n",
      "RangeIndex: 98344 entries, 0 to 98343\n",
      "Data columns (total 18 columns):\n",
      " #   Column                         Non-Null Count  Dtype  \n",
      "---  ------                         --------------  -----  \n",
      " 0   review_id                      98344 non-null  object \n",
      " 1   order_id                       98344 non-null  object \n",
      " 2   review_score                   98344 non-null  int64  \n",
      " 3   review_comment_title           11514 non-null  object \n",
      " 4   review_comment_message         40654 non-null  object \n",
      " 5   review_creation_date           98344 non-null  object \n",
      " 6   review_answer_timestamp        98344 non-null  object \n",
      " 7   customer_id                    98344 non-null  object \n",
      " 8   order_status                   98344 non-null  object \n",
      " 9   order_purchase_timestamp       98344 non-null  object \n",
      " 10  order_approved_at              98215 non-null  object \n",
      " 11  order_delivered_carrier_date   96634 non-null  object \n",
      " 12  order_delivered_customer_date  95542 non-null  object \n",
      " 13  order_estimated_delivery_date  98344 non-null  object \n",
      " 14  score                          98344 non-null  int64  \n",
      " 15  temps_livraison                95542 non-null  float64\n",
      " 16  retard_livraison               95542 non-null  float64\n",
      " 17  produit_recu                   98344 non-null  int64  \n",
      "dtypes: float64(2), int64(3), object(13)\n",
      "memory usage: 13.5+ MB\n"
     ]
    }
   ],
   "source": [
    "\n",
    "# Lire les données de la table REVIEWS dans un DataFrame\n",
    "df = pd.read_csv('data/training_dataset.csv')\n",
    "\n",
    "df.info()\n"
   ]
  },
  {
   "cell_type": "code",
   "execution_count": 145,
   "metadata": {},
   "outputs": [
    {
     "data": {
      "text/html": [
       "<div>\n",
       "<style scoped>\n",
       "    .dataframe tbody tr th:only-of-type {\n",
       "        vertical-align: middle;\n",
       "    }\n",
       "\n",
       "    .dataframe tbody tr th {\n",
       "        vertical-align: top;\n",
       "    }\n",
       "\n",
       "    .dataframe thead th {\n",
       "        text-align: right;\n",
       "    }\n",
       "</style>\n",
       "<table border=\"1\" class=\"dataframe\">\n",
       "  <thead>\n",
       "    <tr style=\"text-align: right;\">\n",
       "      <th></th>\n",
       "      <th>review_id</th>\n",
       "      <th>order_id</th>\n",
       "      <th>review_score</th>\n",
       "      <th>review_comment_title</th>\n",
       "      <th>review_comment_message</th>\n",
       "      <th>review_creation_date</th>\n",
       "      <th>review_answer_timestamp</th>\n",
       "      <th>customer_id_x</th>\n",
       "      <th>order_status_x</th>\n",
       "      <th>order_purchase_timestamp_x</th>\n",
       "      <th>...</th>\n",
       "      <th>order_status_y</th>\n",
       "      <th>order_purchase_timestamp_y</th>\n",
       "      <th>order_approved_at_y</th>\n",
       "      <th>order_delivered_carrier_date_y</th>\n",
       "      <th>order_delivered_customer_date_y</th>\n",
       "      <th>order_estimated_delivery_date_y</th>\n",
       "      <th>customer_unique_id</th>\n",
       "      <th>customer_zip_code_prefix</th>\n",
       "      <th>customer_city</th>\n",
       "      <th>customer_state</th>\n",
       "    </tr>\n",
       "  </thead>\n",
       "  <tbody>\n",
       "    <tr>\n",
       "      <th>0</th>\n",
       "      <td>fe3db7c069d694bab50cc43463f91608</td>\n",
       "      <td>2ca73e2ff9e3a186ad1e1ffb9b1d9c10</td>\n",
       "      <td>5</td>\n",
       "      <td>NaN</td>\n",
       "      <td>A compra foi realizada facilmente.\\r\\nA entreg...</td>\n",
       "      <td>2018-03-23 00:00:00</td>\n",
       "      <td>2018-04-01 00:27:51</td>\n",
       "      <td>e76f777f29e83b393d786accf49e7955</td>\n",
       "      <td>delivered</td>\n",
       "      <td>2018-03-18 21:01:32</td>\n",
       "      <td>...</td>\n",
       "      <td>delivered</td>\n",
       "      <td>2018-03-18 21:01:32</td>\n",
       "      <td>2018-03-18 21:15:36</td>\n",
       "      <td>2018-03-19 19:52:47</td>\n",
       "      <td>2018-03-23 00:32:34</td>\n",
       "      <td>2018-04-11 00:00:00</td>\n",
       "      <td>8dcc2df92d70fe1040029d1901208d96</td>\n",
       "      <td>40279</td>\n",
       "      <td>salvador</td>\n",
       "      <td>BA</td>\n",
       "    </tr>\n",
       "    <tr>\n",
       "      <th>1</th>\n",
       "      <td>e07eee7ad7666276bd8b27fbd83fd1ff</td>\n",
       "      <td>68b3cbc68e4cd1fe19bec35f1d3bb7ee</td>\n",
       "      <td>5</td>\n",
       "      <td>NaN</td>\n",
       "      <td>relógio muito bonito e barato.</td>\n",
       "      <td>2018-03-29 00:00:00</td>\n",
       "      <td>2018-04-02 14:19:31</td>\n",
       "      <td>1a814d4c8923ef3a0e978777f00b717c</td>\n",
       "      <td>delivered</td>\n",
       "      <td>2018-03-10 00:42:20</td>\n",
       "      <td>...</td>\n",
       "      <td>delivered</td>\n",
       "      <td>2018-03-10 00:42:20</td>\n",
       "      <td>2018-03-10 01:21:04</td>\n",
       "      <td>2018-03-12 21:05:34</td>\n",
       "      <td>2018-03-28 18:13:06</td>\n",
       "      <td>2018-03-29 00:00:00</td>\n",
       "      <td>d277ef4a75c805239e54be86625e0722</td>\n",
       "      <td>71929</td>\n",
       "      <td>brasilia</td>\n",
       "      <td>DF</td>\n",
       "    </tr>\n",
       "    <tr>\n",
       "      <th>2</th>\n",
       "      <td>2c5e27fc178bde7ac173c9c62c31b070</td>\n",
       "      <td>0ce9a24111d850192a933fcaab6fbad3</td>\n",
       "      <td>1</td>\n",
       "      <td>NaN</td>\n",
       "      <td>Não gostei ! Comprei gato por lebre</td>\n",
       "      <td>2017-12-13 00:00:00</td>\n",
       "      <td>2017-12-16 07:14:07</td>\n",
       "      <td>5bb8de60ca2ca8b01a5ce471802fe10b</td>\n",
       "      <td>delivered</td>\n",
       "      <td>2017-11-24 01:40:48</td>\n",
       "      <td>...</td>\n",
       "      <td>delivered</td>\n",
       "      <td>2017-11-24 01:40:48</td>\n",
       "      <td>2017-11-24 01:49:34</td>\n",
       "      <td>2017-12-06 15:19:09</td>\n",
       "      <td>2017-12-13 00:28:44</td>\n",
       "      <td>2017-12-19 00:00:00</td>\n",
       "      <td>75a8009b779f5925f34196f17b19962a</td>\n",
       "      <td>22450</td>\n",
       "      <td>rio de janeiro</td>\n",
       "      <td>RJ</td>\n",
       "    </tr>\n",
       "    <tr>\n",
       "      <th>3</th>\n",
       "      <td>540e7bbb2d06cfb7f85f3a88ba7ac97f</td>\n",
       "      <td>cf73e2cb1f4a9480ed70c154da3d954a</td>\n",
       "      <td>5</td>\n",
       "      <td>NaN</td>\n",
       "      <td>NaN</td>\n",
       "      <td>2018-01-18 00:00:00</td>\n",
       "      <td>2018-01-18 19:12:30</td>\n",
       "      <td>ef1ed1347404166e73e8f3977ffcbca0</td>\n",
       "      <td>delivered</td>\n",
       "      <td>2018-01-11 11:23:09</td>\n",
       "      <td>...</td>\n",
       "      <td>delivered</td>\n",
       "      <td>2018-01-11 11:23:09</td>\n",
       "      <td>2018-01-12 02:38:33</td>\n",
       "      <td>2018-01-13 01:07:00</td>\n",
       "      <td>2018-01-17 14:36:38</td>\n",
       "      <td>2018-02-01 00:00:00</td>\n",
       "      <td>21effa61d72771ba8315ab56ce7fb7ac</td>\n",
       "      <td>3807</td>\n",
       "      <td>sao paulo</td>\n",
       "      <td>SP</td>\n",
       "    </tr>\n",
       "    <tr>\n",
       "      <th>4</th>\n",
       "      <td>6a18a4001ae7fd911b3b9fb13686d105</td>\n",
       "      <td>8ba3f3a9292fbc22a8b7dff752bbcd37</td>\n",
       "      <td>5</td>\n",
       "      <td>NaN</td>\n",
       "      <td>NaN</td>\n",
       "      <td>2017-07-19 00:00:00</td>\n",
       "      <td>2017-07-20 10:38:48</td>\n",
       "      <td>0315a87fba4dab4865f2071777b98e87</td>\n",
       "      <td>delivered</td>\n",
       "      <td>2017-07-07 10:07:16</td>\n",
       "      <td>...</td>\n",
       "      <td>delivered</td>\n",
       "      <td>2017-07-07 10:07:16</td>\n",
       "      <td>2017-07-07 10:23:34</td>\n",
       "      <td>2017-07-08 11:46:44</td>\n",
       "      <td>2017-07-18 23:16:44</td>\n",
       "      <td>2017-07-31 00:00:00</td>\n",
       "      <td>ea86add4caaaf87ef892d12ca1033012</td>\n",
       "      <td>18053</td>\n",
       "      <td>sorocaba</td>\n",
       "      <td>SP</td>\n",
       "    </tr>\n",
       "  </tbody>\n",
       "</table>\n",
       "<p>5 rows × 29 columns</p>\n",
       "</div>"
      ],
      "text/plain": [
       "                          review_id                          order_id  \\\n",
       "0  fe3db7c069d694bab50cc43463f91608  2ca73e2ff9e3a186ad1e1ffb9b1d9c10   \n",
       "1  e07eee7ad7666276bd8b27fbd83fd1ff  68b3cbc68e4cd1fe19bec35f1d3bb7ee   \n",
       "2  2c5e27fc178bde7ac173c9c62c31b070  0ce9a24111d850192a933fcaab6fbad3   \n",
       "3  540e7bbb2d06cfb7f85f3a88ba7ac97f  cf73e2cb1f4a9480ed70c154da3d954a   \n",
       "4  6a18a4001ae7fd911b3b9fb13686d105  8ba3f3a9292fbc22a8b7dff752bbcd37   \n",
       "\n",
       "   review_score review_comment_title  \\\n",
       "0             5                  NaN   \n",
       "1             5                  NaN   \n",
       "2             1                  NaN   \n",
       "3             5                  NaN   \n",
       "4             5                  NaN   \n",
       "\n",
       "                              review_comment_message review_creation_date  \\\n",
       "0  A compra foi realizada facilmente.\\r\\nA entreg...  2018-03-23 00:00:00   \n",
       "1                     relógio muito bonito e barato.  2018-03-29 00:00:00   \n",
       "2                Não gostei ! Comprei gato por lebre  2017-12-13 00:00:00   \n",
       "3                                                NaN  2018-01-18 00:00:00   \n",
       "4                                                NaN  2017-07-19 00:00:00   \n",
       "\n",
       "  review_answer_timestamp                     customer_id_x order_status_x  \\\n",
       "0     2018-04-01 00:27:51  e76f777f29e83b393d786accf49e7955      delivered   \n",
       "1     2018-04-02 14:19:31  1a814d4c8923ef3a0e978777f00b717c      delivered   \n",
       "2     2017-12-16 07:14:07  5bb8de60ca2ca8b01a5ce471802fe10b      delivered   \n",
       "3     2018-01-18 19:12:30  ef1ed1347404166e73e8f3977ffcbca0      delivered   \n",
       "4     2017-07-20 10:38:48  0315a87fba4dab4865f2071777b98e87      delivered   \n",
       "\n",
       "  order_purchase_timestamp_x  ... order_status_y order_purchase_timestamp_y  \\\n",
       "0        2018-03-18 21:01:32  ...      delivered        2018-03-18 21:01:32   \n",
       "1        2018-03-10 00:42:20  ...      delivered        2018-03-10 00:42:20   \n",
       "2        2017-11-24 01:40:48  ...      delivered        2017-11-24 01:40:48   \n",
       "3        2018-01-11 11:23:09  ...      delivered        2018-01-11 11:23:09   \n",
       "4        2017-07-07 10:07:16  ...      delivered        2017-07-07 10:07:16   \n",
       "\n",
       "   order_approved_at_y order_delivered_carrier_date_y  \\\n",
       "0  2018-03-18 21:15:36            2018-03-19 19:52:47   \n",
       "1  2018-03-10 01:21:04            2018-03-12 21:05:34   \n",
       "2  2017-11-24 01:49:34            2017-12-06 15:19:09   \n",
       "3  2018-01-12 02:38:33            2018-01-13 01:07:00   \n",
       "4  2017-07-07 10:23:34            2017-07-08 11:46:44   \n",
       "\n",
       "   order_delivered_customer_date_y  order_estimated_delivery_date_y  \\\n",
       "0              2018-03-23 00:32:34              2018-04-11 00:00:00   \n",
       "1              2018-03-28 18:13:06              2018-03-29 00:00:00   \n",
       "2              2017-12-13 00:28:44              2017-12-19 00:00:00   \n",
       "3              2018-01-17 14:36:38              2018-02-01 00:00:00   \n",
       "4              2017-07-18 23:16:44              2017-07-31 00:00:00   \n",
       "\n",
       "                 customer_unique_id  customer_zip_code_prefix   customer_city  \\\n",
       "0  8dcc2df92d70fe1040029d1901208d96                     40279        salvador   \n",
       "1  d277ef4a75c805239e54be86625e0722                     71929        brasilia   \n",
       "2  75a8009b779f5925f34196f17b19962a                     22450  rio de janeiro   \n",
       "3  21effa61d72771ba8315ab56ce7fb7ac                      3807       sao paulo   \n",
       "4  ea86add4caaaf87ef892d12ca1033012                     18053        sorocaba   \n",
       "\n",
       "  customer_state  \n",
       "0             BA  \n",
       "1             DF  \n",
       "2             RJ  \n",
       "3             SP  \n",
       "4             SP  \n",
       "\n",
       "[5 rows x 29 columns]"
      ]
     },
     "execution_count": 145,
     "metadata": {},
     "output_type": "execute_result"
    }
   ],
   "source": [
    "df = pd.read_csv(\"data/training_dataset.csv\")\n",
    "df_a = pd.read_csv('data/orders_dataset.csv')\n",
    "df_b = pd.read_csv('data/customers_dataset.csv')\n",
    "\n",
    "# df_final = df.merge(df_a, on='order_id', how= 'left' ).merge(df_b, on='customer_id', how='left')\n",
    "df_c = df_a.merge(df_b, on='customer_id', how='left')\n",
    "df_final = df.merge(df_c, on='order_id', how='left')\n",
    "\n",
    "df_final.head()\n"
   ]
  },
  {
   "cell_type": "code",
   "execution_count": 146,
   "metadata": {},
   "outputs": [
    {
     "name": "stderr",
     "output_type": "stream",
     "text": [
      "C:\\Users\\Utilisateur\\AppData\\Local\\Temp\\ipykernel_14868\\636533202.py:1: FutureWarning:\n",
      "\n",
      "\n",
      "\n",
      "Passing `palette` without assigning `hue` is deprecated and will be removed in v0.14.0. Assign the `x` variable to `hue` and set `legend=False` for the same effect.\n",
      "\n",
      "\n",
      "c:\\Users\\Utilisateur\\Documents\\Projet_tech_ia\\introduction SQL\\exercice_devia\\venv\\Lib\\site-packages\\seaborn\\_base.py:949: FutureWarning:\n",
      "\n",
      "When grouping with a length-1 list-like, you will need to pass a length-1 tuple to get_group in a future version of pandas. Pass `(name,)` instead of `name` to silence this warning.\n",
      "\n",
      "c:\\Users\\Utilisateur\\Documents\\Projet_tech_ia\\introduction SQL\\exercice_devia\\venv\\Lib\\site-packages\\seaborn\\categorical.py:640: FutureWarning:\n",
      "\n",
      "SeriesGroupBy.grouper is deprecated and will be removed in a future version of pandas.\n",
      "\n",
      "c:\\Users\\Utilisateur\\Documents\\Projet_tech_ia\\introduction SQL\\exercice_devia\\venv\\Lib\\site-packages\\seaborn\\_base.py:949: FutureWarning:\n",
      "\n",
      "When grouping with a length-1 list-like, you will need to pass a length-1 tuple to get_group in a future version of pandas. Pass `(name,)` instead of `name` to silence this warning.\n",
      "\n",
      "c:\\Users\\Utilisateur\\Documents\\Projet_tech_ia\\introduction SQL\\exercice_devia\\venv\\Lib\\site-packages\\seaborn\\categorical.py:640: FutureWarning:\n",
      "\n",
      "SeriesGroupBy.grouper is deprecated and will be removed in a future version of pandas.\n",
      "\n"
     ]
    },
    {
     "data": {
      "text/plain": [
       "<Axes: xlabel='score', ylabel='temps_livraison'>"
      ]
     },
     "execution_count": 146,
     "metadata": {},
     "output_type": "execute_result"
    },
    {
     "data": {
      "image/png": "[encoded data removed]",
      "text/plain": [
       "<Figure size 640x480 with 1 Axes>"
      ]
     },
     "metadata": {},
     "output_type": "display_data"
    }
   ],
   "source": [
    "plot1 = sns.boxplot(\n",
    "               y=\"temps_livraison\",\n",
    "               x=\"score\",\n",
    "               data = df_final,\n",
    "               showfliers=False,\n",
    "               palette='magma')\n",
    "\n",
    "plot1"
   ]
  },
  {
   "cell_type": "code",
   "execution_count": 147,
   "metadata": {},
   "outputs": [
    {
     "name": "stderr",
     "output_type": "stream",
     "text": [
      "c:\\Users\\Utilisateur\\Documents\\Projet_tech_ia\\introduction SQL\\exercice_devia\\venv\\Lib\\site-packages\\plotly\\express\\_core.py:2065: FutureWarning:\n",
      "\n",
      "When grouping with a length-1 list-like, you will need to pass a length-1 tuple to get_group in a future version of pandas. Pass `(name,)` instead of `name` to silence this warning.\n",
      "\n"
     ]
    }
   ],
   "source": [
    "df_group = df_final.groupby('customer_state')['temps_livraison'].mean().reset_index()\n",
    "plot = px.histogram(\n",
    "    df_group,\n",
    "    x='customer_state',\n",
    "    y='temps_livraison',\n",
    "    labels={'customer_state'},\n",
    "    title='Moyenne des temps de livraison par état du client',\n",
    "    color='customer_state',\n",
    "   )\n",
    "plot.update_layout(\n",
    "    xaxis_title='Etat du client',\n",
    "    yaxis_title='livraison moyenne'\n",
    ")\n",
    "plot.update_traces(marker_color='blue')\n",
    "# Afficher le graphique\n",
    "plot\n",
    "df_paiement = pd.read_csv('data/order_payments_dataset.csv')"
   ]
  },
  {
   "cell_type": "code",
   "execution_count": 148,
   "metadata": {},
   "outputs": [
    {
     "data": {
      "text/plain": [
       "([<matplotlib.patches.Wedge at 0x1505cc020c0>,\n",
       "  <matplotlib.patches.Wedge at 0x1505cc03e60>,\n",
       "  <matplotlib.patches.Wedge at 0x1505cc00ef0>,\n",
       "  <matplotlib.patches.Wedge at 0x1505cc00800>,\n",
       "  <matplotlib.patches.Wedge at 0x1505cc00140>],\n",
       " [Text(0.9089340275146591, 0.619547361890906, '19784'),\n",
       "  Text(-1.0226232754136937, -0.405267364319123, '76795'),\n",
       "  Text(1.014999509457363, -0.423999995048718, '1529'),\n",
       "  Text(1.0335468359841982, -0.37653809611651934, '3'),\n",
       "  Text(1.083268002590497, -0.1911293660419429, '5775')],\n",
       " [Text(0.49578219682617763, 0.33793492466776687, '19.0%'),\n",
       "  Text(-0.5577945138620147, -0.2210549259922489, '73.9%'),\n",
       "  Text(0.5536360960676524, -0.23127272457202797, '1.5%'),\n",
       "  Text(0.5637528196277444, -0.20538441606355598, '0.0%'),\n",
       "  Text(0.5908734559584529, -0.10425238147742338, '5.6%')])"
      ]
     },
     "execution_count": 148,
     "metadata": {},
     "output_type": "execute_result"
    },
    {
     "data": {
      "image/png": "[encoded data removed]",
      "text/plain": [
       "<Figure size 640x480 with 1 Axes>"
      ]
     },
     "metadata": {},
     "output_type": "display_data"
    }
   ],
   "source": [
    "df_paiement = pd.read_csv('data/order_payments_dataset.csv')\n",
    "df_paiement_trie = df_paiement.groupby('payment_type')['payment_type'].count()\n",
    "\n",
    "plot, ax = plt.subplots()\n",
    "ax.pie(\n",
    "    df_paiement_trie,\n",
    "    labels=df_paiement_trie,  # Utiliser les catégories uniques comme labels\n",
    "    autopct='%1.1f%%',\n",
    "    colors=sns.color_palette('pastel')\n",
    ")"
   ]
  },
  {
   "cell_type": "code",
   "execution_count": 149,
   "metadata": {},
   "outputs": [
    {
     "data": {
      "text/plain": [
       "payment_type\n",
       "boleto         19784\n",
       "credit_card    76795\n",
       "debit_card      1529\n",
       "not_defined        3\n",
       "voucher         5775\n",
       "Name: payment_type, dtype: int64"
      ]
     },
     "execution_count": 149,
     "metadata": {},
     "output_type": "execute_result"
    }
   ],
   "source": [
    "df_paiement.groupby('payment_type')['payment_type'].count()\n"
   ]
  },
  {
   "cell_type": "code",
   "execution_count": 150,
   "metadata": {},
   "outputs": [
    {
     "ename": "KeyError",
     "evalue": "'Column not found: payment_value'",
     "output_type": "error",
     "traceback": [
      "\u001b[1;31m---------------------------------------------------------------------------\u001b[0m",
      "\u001b[1;31mKeyError\u001b[0m                                  Traceback (most recent call last)",
      "Cell \u001b[1;32mIn[150], line 3\u001b[0m\n\u001b[0;32m      1\u001b[0m df_final_recu \u001b[38;5;241m=\u001b[39m df_final[df_final[\u001b[38;5;124m'\u001b[39m\u001b[38;5;124mproduit_recu\u001b[39m\u001b[38;5;124m'\u001b[39m] \u001b[38;5;241m!=\u001b[39m \u001b[38;5;241m0\u001b[39m]\n\u001b[0;32m      2\u001b[0m nb_produits_recus_egal_0 \u001b[38;5;241m=\u001b[39m (df_final_recu[\u001b[38;5;124m'\u001b[39m\u001b[38;5;124mproduit_recu\u001b[39m\u001b[38;5;124m'\u001b[39m] \u001b[38;5;241m==\u001b[39m \u001b[38;5;241m0\u001b[39m)\u001b[38;5;241m.\u001b[39msum()\n\u001b[1;32m----> 3\u001b[0m df_final_recu_trie \u001b[38;5;241m=\u001b[39m \u001b[43mdf_final_recu\u001b[49m\u001b[38;5;241;43m.\u001b[39;49m\u001b[43mgroupby\u001b[49m\u001b[43m(\u001b[49m\u001b[38;5;124;43m'\u001b[39;49m\u001b[38;5;124;43mreview_score\u001b[39;49m\u001b[38;5;124;43m'\u001b[39;49m\u001b[43m)\u001b[49m\u001b[43m[\u001b[49m\u001b[38;5;124;43m'\u001b[39;49m\u001b[38;5;124;43mpayment_value\u001b[39;49m\u001b[38;5;124;43m'\u001b[39;49m\u001b[43m]\u001b[49m\u001b[38;5;241m.\u001b[39msum()\n\u001b[0;32m      4\u001b[0m df_final_recu_trie \u001b[38;5;241m=\u001b[39m pd\u001b[38;5;241m.\u001b[39mDataFrame(df_final_recu_trie)\u001b[38;5;241m.\u001b[39mreset_index()\n\u001b[0;32m      5\u001b[0m df_final_recu_trie \u001b[38;5;241m=\u001b[39m df_final_recu_trie\u001b[38;5;241m.\u001b[39mrename(columns\u001b[38;5;241m=\u001b[39m{\u001b[38;5;124m'\u001b[39m\u001b[38;5;124mpayment_value\u001b[39m\u001b[38;5;124m'\u001b[39m: \u001b[38;5;124m'\u001b[39m\u001b[38;5;124msomme_paiement\u001b[39m\u001b[38;5;124m'\u001b[39m})\n",
      "File \u001b[1;32mc:\\Users\\Utilisateur\\Documents\\Projet_tech_ia\\introduction SQL\\exercice_devia\\venv\\Lib\\site-packages\\pandas\\core\\groupby\\generic.py:1951\u001b[0m, in \u001b[0;36mDataFrameGroupBy.__getitem__\u001b[1;34m(self, key)\u001b[0m\n\u001b[0;32m   1944\u001b[0m \u001b[38;5;28;01mif\u001b[39;00m \u001b[38;5;28misinstance\u001b[39m(key, \u001b[38;5;28mtuple\u001b[39m) \u001b[38;5;129;01mand\u001b[39;00m \u001b[38;5;28mlen\u001b[39m(key) \u001b[38;5;241m>\u001b[39m \u001b[38;5;241m1\u001b[39m:\n\u001b[0;32m   1945\u001b[0m     \u001b[38;5;66;03m# if len == 1, then it becomes a SeriesGroupBy and this is actually\u001b[39;00m\n\u001b[0;32m   1946\u001b[0m     \u001b[38;5;66;03m# valid syntax, so don't raise\u001b[39;00m\n\u001b[0;32m   1947\u001b[0m     \u001b[38;5;28;01mraise\u001b[39;00m \u001b[38;5;167;01mValueError\u001b[39;00m(\n\u001b[0;32m   1948\u001b[0m         \u001b[38;5;124m\"\u001b[39m\u001b[38;5;124mCannot subset columns with a tuple with more than one element. \u001b[39m\u001b[38;5;124m\"\u001b[39m\n\u001b[0;32m   1949\u001b[0m         \u001b[38;5;124m\"\u001b[39m\u001b[38;5;124mUse a list instead.\u001b[39m\u001b[38;5;124m\"\u001b[39m\n\u001b[0;32m   1950\u001b[0m     )\n\u001b[1;32m-> 1951\u001b[0m \u001b[38;5;28;01mreturn\u001b[39;00m \u001b[38;5;28;43msuper\u001b[39;49m\u001b[43m(\u001b[49m\u001b[43m)\u001b[49m\u001b[38;5;241;43m.\u001b[39;49m\u001b[38;5;21;43m__getitem__\u001b[39;49m\u001b[43m(\u001b[49m\u001b[43mkey\u001b[49m\u001b[43m)\u001b[49m\n",
      "File \u001b[1;32mc:\\Users\\Utilisateur\\Documents\\Projet_tech_ia\\introduction SQL\\exercice_devia\\venv\\Lib\\site-packages\\pandas\\core\\base.py:244\u001b[0m, in \u001b[0;36mSelectionMixin.__getitem__\u001b[1;34m(self, key)\u001b[0m\n\u001b[0;32m    242\u001b[0m \u001b[38;5;28;01melse\u001b[39;00m:\n\u001b[0;32m    243\u001b[0m     \u001b[38;5;28;01mif\u001b[39;00m key \u001b[38;5;129;01mnot\u001b[39;00m \u001b[38;5;129;01min\u001b[39;00m \u001b[38;5;28mself\u001b[39m\u001b[38;5;241m.\u001b[39mobj:\n\u001b[1;32m--> 244\u001b[0m         \u001b[38;5;28;01mraise\u001b[39;00m \u001b[38;5;167;01mKeyError\u001b[39;00m(\u001b[38;5;124mf\u001b[39m\u001b[38;5;124m\"\u001b[39m\u001b[38;5;124mColumn not found: \u001b[39m\u001b[38;5;132;01m{\u001b[39;00mkey\u001b[38;5;132;01m}\u001b[39;00m\u001b[38;5;124m\"\u001b[39m)\n\u001b[0;32m    245\u001b[0m     ndim \u001b[38;5;241m=\u001b[39m \u001b[38;5;28mself\u001b[39m\u001b[38;5;241m.\u001b[39mobj[key]\u001b[38;5;241m.\u001b[39mndim\n\u001b[0;32m    246\u001b[0m     \u001b[38;5;28;01mreturn\u001b[39;00m \u001b[38;5;28mself\u001b[39m\u001b[38;5;241m.\u001b[39m_gotitem(key, ndim\u001b[38;5;241m=\u001b[39mndim)\n",
      "\u001b[1;31mKeyError\u001b[0m: 'Column not found: payment_value'"
     ]
    }
   ],
   "source": [
    "df_final_recu = df_final[df_final['produit_recu'] != 0]\n",
    "nb_produits_recus_egal_0 = (df_final_recu['produit_recu'] == 0).sum()\n",
    "df_final_recu_trie = df_final_recu.groupby('review_score')['payment_value'].sum()\n",
    "df_final_recu_trie = pd.DataFrame(df_final_recu_trie).reset_index()\n",
    "df_final_recu_trie = df_final_recu_trie.rename(columns={'payment_value': 'somme_paiement'})\n",
    "\n",
    "df_final_recu_trie.head()"
   ]
  },
  {
   "cell_type": "code",
   "execution_count": null,
   "metadata": {},
   "outputs": [
    {
     "name": "stderr",
     "output_type": "stream",
     "text": [
      "C:\\Users\\Utilisateur\\AppData\\Local\\Temp\\ipykernel_14868\\3957397588.py:1: FutureWarning:\n",
      "\n",
      "\n",
      "\n",
      "Passing `palette` without assigning `hue` is deprecated and will be removed in v0.14.0. Assign the `x` variable to `hue` and set `legend=False` for the same effect.\n",
      "\n",
      "\n",
      "c:\\Users\\Utilisateur\\Documents\\Projet_tech_ia\\introduction SQL\\exercice_devia\\venv\\Lib\\site-packages\\seaborn\\_base.py:949: FutureWarning:\n",
      "\n",
      "When grouping with a length-1 list-like, you will need to pass a length-1 tuple to get_group in a future version of pandas. Pass `(name,)` instead of `name` to silence this warning.\n",
      "\n",
      "c:\\Users\\Utilisateur\\Documents\\Projet_tech_ia\\introduction SQL\\exercice_devia\\venv\\Lib\\site-packages\\seaborn\\_base.py:949: FutureWarning:\n",
      "\n",
      "When grouping with a length-1 list-like, you will need to pass a length-1 tuple to get_group in a future version of pandas. Pass `(name,)` instead of `name` to silence this warning.\n",
      "\n",
      "c:\\Users\\Utilisateur\\Documents\\Projet_tech_ia\\introduction SQL\\exercice_devia\\venv\\Lib\\site-packages\\seaborn\\_base.py:949: FutureWarning:\n",
      "\n",
      "When grouping with a length-1 list-like, you will need to pass a length-1 tuple to get_group in a future version of pandas. Pass `(name,)` instead of `name` to silence this warning.\n",
      "\n",
      "c:\\Users\\Utilisateur\\Documents\\Projet_tech_ia\\introduction SQL\\exercice_devia\\venv\\Lib\\site-packages\\seaborn\\_base.py:949: FutureWarning:\n",
      "\n",
      "When grouping with a length-1 list-like, you will need to pass a length-1 tuple to get_group in a future version of pandas. Pass `(name,)` instead of `name` to silence this warning.\n",
      "\n",
      "c:\\Users\\Utilisateur\\Documents\\Projet_tech_ia\\introduction SQL\\exercice_devia\\venv\\Lib\\site-packages\\seaborn\\_base.py:949: FutureWarning:\n",
      "\n",
      "When grouping with a length-1 list-like, you will need to pass a length-1 tuple to get_group in a future version of pandas. Pass `(name,)` instead of `name` to silence this warning.\n",
      "\n"
     ]
    },
    {
     "data": {
      "image/png": "[encoded data removed]",
      "text/plain": [
       "<Figure size 640x480 with 1 Axes>"
      ]
     },
     "metadata": {},
     "output_type": "display_data"
    }
   ],
   "source": [
    "plot = sns.barplot(x='review_score', y='payment_value', data=df_final_recu_trie, palette='magma')\n",
    "\n",
    "plt.show(plot)"
   ]
  },
  {
   "cell_type": "code",
   "execution_count": 159,
   "metadata": {},
   "outputs": [
    {
     "name": "stdout",
     "output_type": "stream",
     "text": [
      "Mae: 0.7627790386504523\n"
     ]
    }
   ],
   "source": [
    "from sklearn.ensemble import RandomForestClassifier\n",
    "from sklearn.metrics import mean_absolute_error\n",
    "from sklearn.metrics import f1_score\n",
    "from sklearn.model_selection import train_test_split\n",
    "\n",
    "olist_df = pd.read_csv(\"data/training_dataset.csv\")\n",
    "\n",
    "# Définir la variable cible et les caractéristiques\n",
    "X = olist_df[['produit_recu']]  \n",
    "y = olist_df['score']  \n",
    "\n",
    "# Séparer les données d'entraînement et de test\n",
    "X_train, X_test, y_train, y_test = train_test_split(X, y, train_size=0.8, random_state=42)\n",
    "\n",
    "# Créer et entraîner le modèle\n",
    "model = RandomForestClassifier(n_estimators=10)\n",
    "model.fit(X_train, y_train)\n",
    "\n",
    "# Sauvegarder le modèle\n",
    "# with open('main_model.pkl', 'wb') as model_file:\n",
    "#     pickle.dump(model, model_file)\n",
    "\n",
    "# Tester le modèle\n",
    "predictions = model.predict(X_test)\n",
    "Mae = f1_score(y_test, predictions)\n",
    "print(f\"Mae: {Mae}\")"
   ]
  },
  {
   "cell_type": "code",
   "execution_count": 9,
   "metadata": {},
   "outputs": [
    {
     "name": "stdout",
     "output_type": "stream",
     "text": [
      "prediction [1]\n"
     ]
    },
    {
     "name": "stderr",
     "output_type": "stream",
     "text": [
      "c:\\Users\\Utilisateur\\Documents\\Projet_tech_ia\\introduction SQL\\exercice_devia\\venv\\Lib\\site-packages\\sklearn\\base.py:493: UserWarning: X does not have valid feature names, but RandomForestClassifier was fitted with feature names\n",
      "  warnings.warn(\n"
     ]
    },
    {
     "data": {
      "text/plain": [
       "array([1], dtype=int64)"
      ]
     },
     "execution_count": 9,
     "metadata": {},
     "output_type": "execute_result"
    }
   ],
   "source": [
    "import pickle\n",
    "import numpy as np \n",
    "import pandas as pd\n",
    "def make_prediction(x,y):\n",
    "\n",
    "\n",
    "    #charger le modele à partir d'un fichier pickle\n",
    "    with open ('main_model.pkl', 'rb') as fichier_modele:\n",
    "        loaded_model = pickle.load(fichier_modele)\n",
    "\n",
    "    data = np.array([[x,y]])\n",
    "\n",
    "\n",
    "#faire la prédiction\n",
    "    prediction_out = loaded_model.predict(data)\n",
    "    print('prediction', prediction_out)\n",
    "    #Load json for decoding and decode the output\n",
    "    data = pd.DataFrame({ 'pred': [x,y] })\n",
    "\n",
    "    #Conversion prédiction brute --> à la prédiction traduite\n",
    "\n",
    "    return prediction_out\n",
    "x = 1\n",
    "y = 12\n",
    "make_prediction(x,y)\n",
    "\n",
    "\n"
   ]
  },
  {
   "cell_type": "code",
   "execution_count": 10,
   "metadata": {},
   "outputs": [
    {
     "ename": "ValueError",
     "evalue": "The feature names should match those that were passed during fit.\nFeature names unseen at fit time:\n- jours_livraison\nFeature names seen at fit time, yet now missing:\n- temps_livraison\n",
     "output_type": "error",
     "traceback": [
      "\u001b[1;31m---------------------------------------------------------------------------\u001b[0m",
      "\u001b[1;31mValueError\u001b[0m                                Traceback (most recent call last)",
      "Cell \u001b[1;32mIn[10], line 23\u001b[0m\n\u001b[0;32m     21\u001b[0m x \u001b[38;5;241m=\u001b[39m \u001b[38;5;241m1\u001b[39m\n\u001b[0;32m     22\u001b[0m y\u001b[38;5;241m=\u001b[39m\u001b[38;5;241m12\u001b[39m\n\u001b[1;32m---> 23\u001b[0m \u001b[43mmake_prediction\u001b[49m\u001b[43m(\u001b[49m\u001b[43mx\u001b[49m\u001b[43m,\u001b[49m\u001b[43my\u001b[49m\u001b[43m)\u001b[49m\n",
      "Cell \u001b[1;32mIn[10], line 15\u001b[0m, in \u001b[0;36mmake_prediction\u001b[1;34m(x, y)\u001b[0m\n\u001b[0;32m     11\u001b[0m prediction_data \u001b[38;5;241m=\u001b[39m pd\u001b[38;5;241m.\u001b[39mDataFrame({\u001b[38;5;124m'\u001b[39m\u001b[38;5;124mproduit_recu\u001b[39m\u001b[38;5;124m'\u001b[39m: [x],\n\u001b[0;32m     12\u001b[0m                                 \u001b[38;5;124m'\u001b[39m\u001b[38;5;124mjours_livraison\u001b[39m\u001b[38;5;124m'\u001b[39m: [y]})\n\u001b[0;32m     14\u001b[0m \u001b[38;5;66;03m# Faire la prédiction\u001b[39;00m\n\u001b[1;32m---> 15\u001b[0m prediction_out \u001b[38;5;241m=\u001b[39m \u001b[43mloaded_model\u001b[49m\u001b[38;5;241;43m.\u001b[39;49m\u001b[43mpredict\u001b[49m\u001b[43m(\u001b[49m\u001b[43mprediction_data\u001b[49m\u001b[43m)\u001b[49m\n\u001b[0;32m     16\u001b[0m \u001b[38;5;28mprint\u001b[39m(\u001b[38;5;124m'\u001b[39m\u001b[38;5;124mPrediction:\u001b[39m\u001b[38;5;124m'\u001b[39m, prediction_out)\n\u001b[0;32m     18\u001b[0m \u001b[38;5;28;01mreturn\u001b[39;00m prediction_out\n",
      "File \u001b[1;32mc:\\Users\\Utilisateur\\Documents\\Projet_tech_ia\\introduction SQL\\exercice_devia\\venv\\Lib\\site-packages\\sklearn\\ensemble\\_forest.py:905\u001b[0m, in \u001b[0;36mForestClassifier.predict\u001b[1;34m(self, X)\u001b[0m\n\u001b[0;32m    884\u001b[0m \u001b[38;5;28;01mdef\u001b[39;00m \u001b[38;5;21mpredict\u001b[39m(\u001b[38;5;28mself\u001b[39m, X):\n\u001b[0;32m    885\u001b[0m \u001b[38;5;250m    \u001b[39m\u001b[38;5;124;03m\"\"\"\u001b[39;00m\n\u001b[0;32m    886\u001b[0m \u001b[38;5;124;03m    Predict class for X.\u001b[39;00m\n\u001b[0;32m    887\u001b[0m \n\u001b[1;32m   (...)\u001b[0m\n\u001b[0;32m    903\u001b[0m \u001b[38;5;124;03m        The predicted classes.\u001b[39;00m\n\u001b[0;32m    904\u001b[0m \u001b[38;5;124;03m    \"\"\"\u001b[39;00m\n\u001b[1;32m--> 905\u001b[0m     proba \u001b[38;5;241m=\u001b[39m \u001b[38;5;28;43mself\u001b[39;49m\u001b[38;5;241;43m.\u001b[39;49m\u001b[43mpredict_proba\u001b[49m\u001b[43m(\u001b[49m\u001b[43mX\u001b[49m\u001b[43m)\u001b[49m\n\u001b[0;32m    907\u001b[0m     \u001b[38;5;28;01mif\u001b[39;00m \u001b[38;5;28mself\u001b[39m\u001b[38;5;241m.\u001b[39mn_outputs_ \u001b[38;5;241m==\u001b[39m \u001b[38;5;241m1\u001b[39m:\n\u001b[0;32m    908\u001b[0m         \u001b[38;5;28;01mreturn\u001b[39;00m \u001b[38;5;28mself\u001b[39m\u001b[38;5;241m.\u001b[39mclasses_\u001b[38;5;241m.\u001b[39mtake(np\u001b[38;5;241m.\u001b[39margmax(proba, axis\u001b[38;5;241m=\u001b[39m\u001b[38;5;241m1\u001b[39m), axis\u001b[38;5;241m=\u001b[39m\u001b[38;5;241m0\u001b[39m)\n",
      "File \u001b[1;32mc:\\Users\\Utilisateur\\Documents\\Projet_tech_ia\\introduction SQL\\exercice_devia\\venv\\Lib\\site-packages\\sklearn\\ensemble\\_forest.py:947\u001b[0m, in \u001b[0;36mForestClassifier.predict_proba\u001b[1;34m(self, X)\u001b[0m\n\u001b[0;32m    945\u001b[0m check_is_fitted(\u001b[38;5;28mself\u001b[39m)\n\u001b[0;32m    946\u001b[0m \u001b[38;5;66;03m# Check data\u001b[39;00m\n\u001b[1;32m--> 947\u001b[0m X \u001b[38;5;241m=\u001b[39m \u001b[38;5;28;43mself\u001b[39;49m\u001b[38;5;241;43m.\u001b[39;49m\u001b[43m_validate_X_predict\u001b[49m\u001b[43m(\u001b[49m\u001b[43mX\u001b[49m\u001b[43m)\u001b[49m\n\u001b[0;32m    949\u001b[0m \u001b[38;5;66;03m# Assign chunk of trees to jobs\u001b[39;00m\n\u001b[0;32m    950\u001b[0m n_jobs, _, _ \u001b[38;5;241m=\u001b[39m _partition_estimators(\u001b[38;5;28mself\u001b[39m\u001b[38;5;241m.\u001b[39mn_estimators, \u001b[38;5;28mself\u001b[39m\u001b[38;5;241m.\u001b[39mn_jobs)\n",
      "File \u001b[1;32mc:\\Users\\Utilisateur\\Documents\\Projet_tech_ia\\introduction SQL\\exercice_devia\\venv\\Lib\\site-packages\\sklearn\\ensemble\\_forest.py:641\u001b[0m, in \u001b[0;36mBaseForest._validate_X_predict\u001b[1;34m(self, X)\u001b[0m\n\u001b[0;32m    638\u001b[0m \u001b[38;5;28;01melse\u001b[39;00m:\n\u001b[0;32m    639\u001b[0m     force_all_finite \u001b[38;5;241m=\u001b[39m \u001b[38;5;28;01mTrue\u001b[39;00m\n\u001b[1;32m--> 641\u001b[0m X \u001b[38;5;241m=\u001b[39m \u001b[38;5;28;43mself\u001b[39;49m\u001b[38;5;241;43m.\u001b[39;49m\u001b[43m_validate_data\u001b[49m\u001b[43m(\u001b[49m\n\u001b[0;32m    642\u001b[0m \u001b[43m    \u001b[49m\u001b[43mX\u001b[49m\u001b[43m,\u001b[49m\n\u001b[0;32m    643\u001b[0m \u001b[43m    \u001b[49m\u001b[43mdtype\u001b[49m\u001b[38;5;241;43m=\u001b[39;49m\u001b[43mDTYPE\u001b[49m\u001b[43m,\u001b[49m\n\u001b[0;32m    644\u001b[0m \u001b[43m    \u001b[49m\u001b[43maccept_sparse\u001b[49m\u001b[38;5;241;43m=\u001b[39;49m\u001b[38;5;124;43m\"\u001b[39;49m\u001b[38;5;124;43mcsr\u001b[39;49m\u001b[38;5;124;43m\"\u001b[39;49m\u001b[43m,\u001b[49m\n\u001b[0;32m    645\u001b[0m \u001b[43m    \u001b[49m\u001b[43mreset\u001b[49m\u001b[38;5;241;43m=\u001b[39;49m\u001b[38;5;28;43;01mFalse\u001b[39;49;00m\u001b[43m,\u001b[49m\n\u001b[0;32m    646\u001b[0m \u001b[43m    \u001b[49m\u001b[43mforce_all_finite\u001b[49m\u001b[38;5;241;43m=\u001b[39;49m\u001b[43mforce_all_finite\u001b[49m\u001b[43m,\u001b[49m\n\u001b[0;32m    647\u001b[0m \u001b[43m\u001b[49m\u001b[43m)\u001b[49m\n\u001b[0;32m    648\u001b[0m \u001b[38;5;28;01mif\u001b[39;00m issparse(X) \u001b[38;5;129;01mand\u001b[39;00m (X\u001b[38;5;241m.\u001b[39mindices\u001b[38;5;241m.\u001b[39mdtype \u001b[38;5;241m!=\u001b[39m np\u001b[38;5;241m.\u001b[39mintc \u001b[38;5;129;01mor\u001b[39;00m X\u001b[38;5;241m.\u001b[39mindptr\u001b[38;5;241m.\u001b[39mdtype \u001b[38;5;241m!=\u001b[39m np\u001b[38;5;241m.\u001b[39mintc):\n\u001b[0;32m    649\u001b[0m     \u001b[38;5;28;01mraise\u001b[39;00m \u001b[38;5;167;01mValueError\u001b[39;00m(\u001b[38;5;124m\"\u001b[39m\u001b[38;5;124mNo support for np.int64 index based sparse matrices\u001b[39m\u001b[38;5;124m\"\u001b[39m)\n",
      "File \u001b[1;32mc:\\Users\\Utilisateur\\Documents\\Projet_tech_ia\\introduction SQL\\exercice_devia\\venv\\Lib\\site-packages\\sklearn\\base.py:608\u001b[0m, in \u001b[0;36mBaseEstimator._validate_data\u001b[1;34m(self, X, y, reset, validate_separately, cast_to_ndarray, **check_params)\u001b[0m\n\u001b[0;32m    537\u001b[0m \u001b[38;5;28;01mdef\u001b[39;00m \u001b[38;5;21m_validate_data\u001b[39m(\n\u001b[0;32m    538\u001b[0m     \u001b[38;5;28mself\u001b[39m,\n\u001b[0;32m    539\u001b[0m     X\u001b[38;5;241m=\u001b[39m\u001b[38;5;124m\"\u001b[39m\u001b[38;5;124mno_validation\u001b[39m\u001b[38;5;124m\"\u001b[39m,\n\u001b[1;32m   (...)\u001b[0m\n\u001b[0;32m    544\u001b[0m     \u001b[38;5;241m*\u001b[39m\u001b[38;5;241m*\u001b[39mcheck_params,\n\u001b[0;32m    545\u001b[0m ):\n\u001b[0;32m    546\u001b[0m \u001b[38;5;250m    \u001b[39m\u001b[38;5;124;03m\"\"\"Validate input data and set or check the `n_features_in_` attribute.\u001b[39;00m\n\u001b[0;32m    547\u001b[0m \n\u001b[0;32m    548\u001b[0m \u001b[38;5;124;03m    Parameters\u001b[39;00m\n\u001b[1;32m   (...)\u001b[0m\n\u001b[0;32m    606\u001b[0m \u001b[38;5;124;03m        validated.\u001b[39;00m\n\u001b[0;32m    607\u001b[0m \u001b[38;5;124;03m    \"\"\"\u001b[39;00m\n\u001b[1;32m--> 608\u001b[0m     \u001b[38;5;28;43mself\u001b[39;49m\u001b[38;5;241;43m.\u001b[39;49m\u001b[43m_check_feature_names\u001b[49m\u001b[43m(\u001b[49m\u001b[43mX\u001b[49m\u001b[43m,\u001b[49m\u001b[43m \u001b[49m\u001b[43mreset\u001b[49m\u001b[38;5;241;43m=\u001b[39;49m\u001b[43mreset\u001b[49m\u001b[43m)\u001b[49m\n\u001b[0;32m    610\u001b[0m     \u001b[38;5;28;01mif\u001b[39;00m y \u001b[38;5;129;01mis\u001b[39;00m \u001b[38;5;28;01mNone\u001b[39;00m \u001b[38;5;129;01mand\u001b[39;00m \u001b[38;5;28mself\u001b[39m\u001b[38;5;241m.\u001b[39m_get_tags()[\u001b[38;5;124m\"\u001b[39m\u001b[38;5;124mrequires_y\u001b[39m\u001b[38;5;124m\"\u001b[39m]:\n\u001b[0;32m    611\u001b[0m         \u001b[38;5;28;01mraise\u001b[39;00m \u001b[38;5;167;01mValueError\u001b[39;00m(\n\u001b[0;32m    612\u001b[0m             \u001b[38;5;124mf\u001b[39m\u001b[38;5;124m\"\u001b[39m\u001b[38;5;124mThis \u001b[39m\u001b[38;5;132;01m{\u001b[39;00m\u001b[38;5;28mself\u001b[39m\u001b[38;5;241m.\u001b[39m\u001b[38;5;18m__class__\u001b[39m\u001b[38;5;241m.\u001b[39m\u001b[38;5;18m__name__\u001b[39m\u001b[38;5;132;01m}\u001b[39;00m\u001b[38;5;124m estimator \u001b[39m\u001b[38;5;124m\"\u001b[39m\n\u001b[0;32m    613\u001b[0m             \u001b[38;5;124m\"\u001b[39m\u001b[38;5;124mrequires y to be passed, but the target y is None.\u001b[39m\u001b[38;5;124m\"\u001b[39m\n\u001b[0;32m    614\u001b[0m         )\n",
      "File \u001b[1;32mc:\\Users\\Utilisateur\\Documents\\Projet_tech_ia\\introduction SQL\\exercice_devia\\venv\\Lib\\site-packages\\sklearn\\base.py:535\u001b[0m, in \u001b[0;36mBaseEstimator._check_feature_names\u001b[1;34m(self, X, reset)\u001b[0m\n\u001b[0;32m    530\u001b[0m \u001b[38;5;28;01mif\u001b[39;00m \u001b[38;5;129;01mnot\u001b[39;00m missing_names \u001b[38;5;129;01mand\u001b[39;00m \u001b[38;5;129;01mnot\u001b[39;00m unexpected_names:\n\u001b[0;32m    531\u001b[0m     message \u001b[38;5;241m+\u001b[39m\u001b[38;5;241m=\u001b[39m (\n\u001b[0;32m    532\u001b[0m         \u001b[38;5;124m\"\u001b[39m\u001b[38;5;124mFeature names must be in the same order as they were in fit.\u001b[39m\u001b[38;5;130;01m\\n\u001b[39;00m\u001b[38;5;124m\"\u001b[39m\n\u001b[0;32m    533\u001b[0m     )\n\u001b[1;32m--> 535\u001b[0m \u001b[38;5;28;01mraise\u001b[39;00m \u001b[38;5;167;01mValueError\u001b[39;00m(message)\n",
      "\u001b[1;31mValueError\u001b[0m: The feature names should match those that were passed during fit.\nFeature names unseen at fit time:\n- jours_livraison\nFeature names seen at fit time, yet now missing:\n- temps_livraison\n"
     ]
    }
   ],
   "source": [
    "import pickle\n",
    "import numpy as np\n",
    "import pandas as pd\n",
    "\n",
    "def make_prediction(x,y):\n",
    "    # Charger le modèle à partir d'un fichier pickle\n",
    "    with open('main_model.pkl', 'rb') as fichier_modele:\n",
    "        loaded_model = pickle.load(fichier_modele)\n",
    "\n",
    "    # Créer un DataFrame avec la colonne 'produit_recu'\n",
    "    prediction_data = pd.DataFrame({'produit_recu': [x],\n",
    "                                    'jours_livraison': [y]})\n",
    "\n",
    "    # Faire la prédiction\n",
    "    prediction_out = loaded_model.predict(prediction_data)\n",
    "    print('Prediction:', prediction_out)\n",
    "\n",
    "    return prediction_out\n",
    "\n",
    "# Exemple d'appel de la fonction avec une valeur d'entrée\n",
    "x = 1\n",
    "y=12\n",
    "make_prediction(x,y)\n"
   ]
  }
 ],
 "metadata": {
  "kernelspec": {
   "display_name": "venv",
   "language": "python",
   "name": "python3"
  },
  "language_info": {
   "codemirror_mode": {
    "name": "ipython",
    "version": 3
   },
   "file_extension": ".py",
   "mimetype": "text/x-python",
   "name": "python",
   "nbconvert_exporter": "python",
   "pygments_lexer": "ipython3",
   "version": "3.12.1"
  }
 },
 "nbformat": 4,
 "nbformat_minor": 2
}
